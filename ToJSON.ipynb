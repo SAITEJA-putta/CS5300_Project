{
 "cells": [
  {
   "cell_type": "code",
   "execution_count": 3,
   "id": "2f9ffbc0-e7b7-439e-96c3-c784a7aa1fb9",
   "metadata": {},
   "outputs": [
    {
     "name": "stdin",
     "output_type": "stream",
     "text": [
      "Enter the primary keys (comma-separated):  OrderID,DrinkID,FoodID\n",
      "Enter the non-atomic keys (comma-separated):  PromocodeUsed,DrinkIngredient,DrinkAllergen,FoodIngredient,FoodAllergen\n",
      "Enter the target normal form (e.g., '5NF'):  5NF\n"
     ]
    },
    {
     "name": "stdout",
     "output_type": "stream",
     "text": [
      "JSON structure saved to 'output.json'.\n"
     ]
    }
   ],
   "source": [
    "import pandas as pd\n",
    "import json\n",
    "\n",
    "def read_csv(file_path):\n",
    "    \"\"\"Read data from the CSV file and return the attributes and rows.\"\"\"\n",
    "    try:\n",
    "        df = pd.read_csv(file_path)\n",
    "        attributes = df.columns.tolist()\n",
    "        rows = df.values.tolist()\n",
    "        return attributes, rows\n",
    "    except FileNotFoundError:\n",
    "        print(f\"Error: File '{file_path}' not found.\")\n",
    "        return None, None\n",
    "\n",
    "def parse_fd_file(file_path, is_mvd=False):\n",
    "    \"\"\"Parse functional and multivalued dependencies from a text file.\"\"\"\n",
    "    dependencies = []\n",
    "    try:\n",
    "        with open(file_path, 'r') as file:\n",
    "            for line in file:\n",
    "                line = line.strip()\n",
    "                if not line:\n",
    "                    continue\n",
    "                parts = line.split('-->>' if is_mvd else '-->')\n",
    "                if len(parts) != 2:\n",
    "                    continue\n",
    "                lhs = [attr.strip() for attr in parts[0].strip('{}').split(',')]\n",
    "                rhs = [attr.strip() for attr in parts[1].strip('{}').split(',')]\n",
    "                dependencies.append({\"lhs\": lhs, \"rhs\": rhs})\n",
    "        return dependencies\n",
    "    except FileNotFoundError:\n",
    "        print(f\"Error: File '{file_path}' not found.\")\n",
    "        return []\n",
    "\n",
    "def create_json_structure(attributes, rows, primary_keys, non_atomic, fds, mvds, target_nf):\n",
    "    \"\"\"Create the JSON structure as specified.\"\"\"\n",
    "    # Identifying non-atomic attributes (attributes with comma-separated values in rows)\n",
    "\n",
    "    data_structure = {\n",
    "        \"relations\": [\n",
    "            {\n",
    "                \"table_name\": \"Coffeeshop_data\",\n",
    "                \"attributes\": attributes,\n",
    "                \"rows\": [],\n",
    "                \"primary_key\": primary_keys,\n",
    "                \"candidate_keys\": [],  # You can populate this if you have candidate keys\n",
    "                \"prime_attributes\": primary_keys,  # Prime attributes are typically the primary keys\n",
    "                \"non_atomic\": non_atomic\n",
    "            }\n",
    "        ],\n",
    "        \"functional_dependencies\": fds,\n",
    "        \"mvds\": mvds,\n",
    "        \"target_normal_form\": target_nf\n",
    "    }\n",
    "    return data_structure\n",
    "\n",
    "def main():\n",
    "    # File paths\n",
    "    csv_file = 'TestingData.csv'\n",
    "    fd_file = 'fds.txt'\n",
    "    mvd_file = 'mvds.txt'\n",
    "    \n",
    "    # User input for primary keys and target normal form\n",
    "    primary_keys = input(\"Enter the primary keys (comma-separated): \").strip().split(',')\n",
    "    non_atomic = input(\"Enter the non-atomic keys (comma-separated): \").strip().split(',')\n",
    "    target_nf = input(\"Enter the target normal form (e.g., '5NF'): \").strip()\n",
    "\n",
    "    # Read data from CSV\n",
    "    attributes, rows = read_csv(csv_file)\n",
    "    if attributes is None or rows is None:\n",
    "        return\n",
    "\n",
    "    # Parse functional dependencies and multivalued dependencies\n",
    "    fds = parse_fd_file(fd_file)\n",
    "    mvds = parse_fd_file(mvd_file, is_mvd=True)\n",
    "\n",
    "    # Create the final JSON structure\n",
    "    json_structure = create_json_structure(attributes, rows, primary_keys, non_atomic, fds, mvds, target_nf)\n",
    "\n",
    "    # Output the JSON to a file or print\n",
    "    with open('output.json', 'w') as outfile:\n",
    "        json.dump(json_structure, outfile, indent=4)\n",
    "    print(\"JSON structure saved to 'output.json'.\")\n",
    "\n",
    "if __name__ == \"__main__\":\n",
    "    main()\n"
   ]
  },
  {
   "cell_type": "code",
   "execution_count": null,
   "id": "4c5def90-fc98-4667-a3b5-95eb7f9fc38f",
   "metadata": {},
   "outputs": [],
   "source": []
  }
 ],
 "metadata": {
  "kernelspec": {
   "display_name": "Python 3 (ipykernel)",
   "language": "python",
   "name": "python3"
  },
  "language_info": {
   "codemirror_mode": {
    "name": "ipython",
    "version": 3
   },
   "file_extension": ".py",
   "mimetype": "text/x-python",
   "name": "python",
   "nbconvert_exporter": "python",
   "pygments_lexer": "ipython3",
   "version": "3.12.2"
  }
 },
 "nbformat": 4,
 "nbformat_minor": 5
}
